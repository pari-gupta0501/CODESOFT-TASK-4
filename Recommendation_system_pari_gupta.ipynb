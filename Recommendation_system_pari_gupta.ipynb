{
  "nbformat": 4,
  "nbformat_minor": 0,
  "metadata": {
    "colab": {
      "provenance": []
    },
    "kernelspec": {
      "name": "python3",
      "display_name": "Python 3"
    },
    "language_info": {
      "name": "python"
    }
  },
  "cells": [
    {
      "cell_type": "markdown",
      "source": [
        "# **TASK-4**\n",
        "### **RECOMMENDATION SYSTEM**"
      ],
      "metadata": {
        "id": "BG3oCbipO4sU"
      }
    },
    {
      "cell_type": "markdown",
      "source": [
        "### ✅ Project Plan\n",
        "\n",
        "🔹 **Option A** : Content-Based Filtering\n",
        "Recommends items similar to what the user liked in the past, based on features (e.g., genre, description, tags).\n",
        "\n",
        "🔹 **Option B** : Collaborative Filtering\n",
        "Recommends based on similar users’ behaviors using rating matrices.\n",
        "\n"
      ],
      "metadata": {
        "id": "nXx-34kFJHlW"
      }
    },
    {
      "cell_type": "markdown",
      "source": [
        "### **GENERAL SETUP**\n",
        "### Step 1: Install Required Libraries"
      ],
      "metadata": {
        "id": "N5m5ZARPH74F"
      }
    },
    {
      "cell_type": "code",
      "source": [
        "pip install pandas scikit-learn"
      ],
      "metadata": {
        "colab": {
          "base_uri": "https://localhost:8080/"
        },
        "id": "QsdApL7eHF7z",
        "outputId": "14500262-234f-4ba0-a1e0-78a09a4e1d28"
      },
      "execution_count": null,
      "outputs": [
        {
          "output_type": "stream",
          "name": "stdout",
          "text": [
            "Requirement already satisfied: pandas in /usr/local/lib/python3.11/dist-packages (2.2.2)\n",
            "Requirement already satisfied: scikit-learn in /usr/local/lib/python3.11/dist-packages (1.6.1)\n",
            "Requirement already satisfied: numpy>=1.23.2 in /usr/local/lib/python3.11/dist-packages (from pandas) (2.0.2)\n",
            "Requirement already satisfied: python-dateutil>=2.8.2 in /usr/local/lib/python3.11/dist-packages (from pandas) (2.9.0.post0)\n",
            "Requirement already satisfied: pytz>=2020.1 in /usr/local/lib/python3.11/dist-packages (from pandas) (2025.2)\n",
            "Requirement already satisfied: tzdata>=2022.7 in /usr/local/lib/python3.11/dist-packages (from pandas) (2025.2)\n",
            "Requirement already satisfied: scipy>=1.6.0 in /usr/local/lib/python3.11/dist-packages (from scikit-learn) (1.15.3)\n",
            "Requirement already satisfied: joblib>=1.2.0 in /usr/local/lib/python3.11/dist-packages (from scikit-learn) (1.5.1)\n",
            "Requirement already satisfied: threadpoolctl>=3.1.0 in /usr/local/lib/python3.11/dist-packages (from scikit-learn) (3.6.0)\n",
            "Requirement already satisfied: six>=1.5 in /usr/local/lib/python3.11/dist-packages (from python-dateutil>=2.8.2->pandas) (1.17.0)\n"
          ]
        }
      ]
    },
    {
      "cell_type": "markdown",
      "source": [
        "## **🎬 MOVIE RECOMMENDATION SYSTEM**"
      ],
      "metadata": {
        "id": "1DcPN3m9JtLA"
      }
    },
    {
      "cell_type": "code",
      "source": [
        "import pandas as pd\n",
        "from sklearn.feature_extraction.text import TfidfVectorizer\n",
        "from sklearn.metrics.pairwise import cosine_similarity"
      ],
      "metadata": {
        "id": "O8JFmGcDIMGJ"
      },
      "execution_count": null,
      "outputs": []
    },
    {
      "cell_type": "code",
      "source": [
        "#Sample movie dataset\n",
        "movie_data = {\n",
        "    'title': ['The Matrix', 'Inception', 'Interstellar', 'The Avengers', 'John Wick'],\n",
        "    'genre': ['sci-fi action', 'sci-fi thriller', 'sci-fi space', 'action superhero', 'action crime']\n",
        "}\n",
        "movies = pd.DataFrame(movie_data)"
      ],
      "metadata": {
        "id": "VD3t0jARKCSV"
      },
      "execution_count": null,
      "outputs": []
    },
    {
      "cell_type": "code",
      "source": [
        "# TF-IDF Vectorization\n",
        "tfidf = TfidfVectorizer()\n",
        "tfidf_matrix = tfidf.fit_transform(movies['genre'])"
      ],
      "metadata": {
        "id": "6xH0_r4aKH4S"
      },
      "execution_count": null,
      "outputs": []
    },
    {
      "cell_type": "code",
      "source": [
        "# Cosine Similarity\n",
        "cosine_sim = cosine_similarity(tfidf_matrix)"
      ],
      "metadata": {
        "id": "fZOFw6hwKP7o"
      },
      "execution_count": null,
      "outputs": []
    },
    {
      "cell_type": "code",
      "source": [
        "def recommend_movies(title):\n",
        "    idx = movies[movies['title'] == title].index[0]\n",
        "    sim_scores = list(enumerate(cosine_sim[idx]))\n",
        "    sim_scores = sorted(sim_scores, key=lambda x: x[1], reverse=True)[1:4]\n",
        "    movie_indices = [i[0] for i in sim_scores]\n",
        "    return movies['title'].iloc[movie_indices]"
      ],
      "metadata": {
        "id": "yWoYG9FnLKM8"
      },
      "execution_count": null,
      "outputs": []
    },
    {
      "cell_type": "code",
      "source": [
        "# Test\n",
        "print(\"Recommended movies for 'Inception':\")\n",
        "print(recommend_movies('Inception'))"
      ],
      "metadata": {
        "colab": {
          "base_uri": "https://localhost:8080/"
        },
        "id": "xPBi-04aLJwM",
        "outputId": "407d96cc-5dee-4892-c251-b93436b932f1"
      },
      "execution_count": null,
      "outputs": [
        {
          "output_type": "stream",
          "name": "stdout",
          "text": [
            "Recommended movies for 'Inception':\n",
            "0      The Matrix\n",
            "2    Interstellar\n",
            "3    The Avengers\n",
            "Name: title, dtype: object\n"
          ]
        }
      ]
    },
    {
      "cell_type": "markdown",
      "source": [
        "## **📚 BOOK RECOMMENDATION SYSTEM**"
      ],
      "metadata": {
        "id": "pmCIuKgDMFny"
      }
    },
    {
      "cell_type": "code",
      "source": [
        "#Sample book dataset\n",
        "book_data = {\n",
        "    'title': ['The Alchemist', 'Harry Potter', 'The Hobbit', '1984', 'Pride and Prejudice'],\n",
        "    'tags': ['philosophy adventure', 'magic fantasy school', 'fantasy adventure', 'dystopia politics', 'romance classic']\n",
        "}\n",
        "books = pd.DataFrame(book_data)"
      ],
      "metadata": {
        "id": "FwD4aLn6LUag"
      },
      "execution_count": null,
      "outputs": []
    },
    {
      "cell_type": "code",
      "source": [
        "# TF-IDF & Similarity\n",
        "tfidf = TfidfVectorizer()\n",
        "tfidf_matrix = tfidf.fit_transform(books['tags'])\n",
        "cosine_sim = cosine_similarity(tfidf_matrix)"
      ],
      "metadata": {
        "id": "Br0HWcQgMbAj"
      },
      "execution_count": null,
      "outputs": []
    },
    {
      "cell_type": "code",
      "source": [
        "def recommend_books(title):\n",
        "    idx = books[books['title'] == title].index[0]\n",
        "    sim_scores = list(enumerate(cosine_sim[idx]))\n",
        "    sim_scores = sorted(sim_scores, key=lambda x: x[1], reverse=True)[1:4]\n",
        "    book_indices = [i[0] for i in sim_scores]\n",
        "    return books['title'].iloc[book_indices]"
      ],
      "metadata": {
        "id": "zr5eIgR4Mpd2"
      },
      "execution_count": null,
      "outputs": []
    },
    {
      "cell_type": "code",
      "source": [
        "# Test\n",
        "print(\"\\nRecommended books for 'Harry Potter':\")\n",
        "print(recommend_books('Harry Potter'))"
      ],
      "metadata": {
        "colab": {
          "base_uri": "https://localhost:8080/"
        },
        "id": "iqMyXBnjN-jH",
        "outputId": "6c326d5e-49cb-4b49-8c06-4b5b3d8073fc"
      },
      "execution_count": null,
      "outputs": [
        {
          "output_type": "stream",
          "name": "stdout",
          "text": [
            "\n",
            "Recommended books for 'Harry Potter':\n",
            "2       The Hobbit\n",
            "0    The Alchemist\n",
            "3             1984\n",
            "Name: title, dtype: object\n"
          ]
        }
      ]
    },
    {
      "cell_type": "markdown",
      "source": [
        "## **🛍️ PRODUCT RECOMMENDATION SYSTEM**"
      ],
      "metadata": {
        "id": "o7urm6l2OI_T"
      }
    },
    {
      "cell_type": "code",
      "source": [
        "# Sample product dataset\n",
        "product_data = {\n",
        "    'product': ['Smartphone', 'Laptop', 'Tablet', 'Smartwatch', 'Bluetooth Speaker'],\n",
        "    'features': ['android camera screen', 'performance processor RAM', 'portable touchscreen android', 'fitness notifications bluetooth', 'music sound portable']\n",
        "}\n",
        "products = pd.DataFrame(product_data)"
      ],
      "metadata": {
        "id": "HvY-BorqODF7"
      },
      "execution_count": null,
      "outputs": []
    },
    {
      "cell_type": "code",
      "source": [
        "#TF-IDF & Similarity\n",
        "tfidf = TfidfVectorizer()\n",
        "tfidf_matrix = tfidf.fit_transform(products['features'])\n",
        "cosine_sim = cosine_similarity(tfidf_matrix)"
      ],
      "metadata": {
        "id": "CJQiy2ruOa1N"
      },
      "execution_count": null,
      "outputs": []
    },
    {
      "cell_type": "code",
      "source": [
        "def recommend_products(product_name):\n",
        "    idx = products[products['product'] == product_name].index[0]\n",
        "    sim_scores = list(enumerate(cosine_sim[idx]))\n",
        "    sim_scores = sorted(sim_scores, key=lambda x: x[1], reverse=True)[1:4]\n",
        "    product_indices = [i[0] for i in sim_scores]\n",
        "    return products['product'].iloc[product_indices]"
      ],
      "metadata": {
        "id": "txk8USKtOrqv"
      },
      "execution_count": null,
      "outputs": []
    },
    {
      "cell_type": "code",
      "source": [
        "# Test\n",
        "print(\"\\nRecommended products for 'Laptop':\")\n",
        "print(recommend_products('Laptop'))"
      ],
      "metadata": {
        "id": "NyB3yIyuOvS8",
        "outputId": "325e9534-962d-4c0a-f84f-334934915a20",
        "colab": {
          "base_uri": "https://localhost:8080/"
        }
      },
      "execution_count": null,
      "outputs": [
        {
          "output_type": "stream",
          "name": "stdout",
          "text": [
            "\n",
            "Recommended products for 'Laptop':\n",
            "0    Smartphone\n",
            "2        Tablet\n",
            "3    Smartwatch\n",
            "Name: product, dtype: object\n"
          ]
        }
      ]
    },
    {
      "cell_type": "code",
      "source": [],
      "metadata": {
        "id": "sVsjx-gGOxvh"
      },
      "execution_count": null,
      "outputs": []
    }
  ]
}